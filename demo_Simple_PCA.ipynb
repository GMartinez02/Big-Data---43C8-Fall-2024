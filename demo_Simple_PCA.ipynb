{
  "nbformat": 4,
  "nbformat_minor": 0,
  "metadata": {
    "colab": {
      "provenance": [],
      "authorship_tag": "ABX9TyMhBUIfVbnzUGJ8tjuivUgF",
      "include_colab_link": true
    },
    "kernelspec": {
      "name": "python3",
      "display_name": "Python 3"
    },
    "language_info": {
      "name": "python"
    }
  },
  "cells": [
    {
      "cell_type": "markdown",
      "metadata": {
        "id": "view-in-github",
        "colab_type": "text"
      },
      "source": [
        "<a href=\"https://colab.research.google.com/github/GMartinez02/Big-Data---43C8-Fall-2024/blob/Concepts-as-Code/demo_Simple_PCA.ipynb\" target=\"_parent\"><img src=\"https://colab.research.google.com/assets/colab-badge.svg\" alt=\"Open In Colab\"/></a>"
      ]
    },
    {
      "cell_type": "code",
      "source": [
        "import os\n",
        "\n",
        "from google.colab import drive\n",
        "drive.mount('/content/drive', force_remount=True)\n",
        "curent_folder='Big Data - 43C8'\n",
        "dest_folder='/content/drive/My Drive/'+curent_folder\n",
        "os.chdir(dest_folder)\n",
        "print('Path:',  os.getcwd())"
      ],
      "metadata": {
        "colab": {
          "base_uri": "https://localhost:8080/"
        },
        "id": "XysHRPRHr2uj",
        "outputId": "aa554df5-bd35-4542-c439-a9f0465edbea"
      },
      "execution_count": 4,
      "outputs": [
        {
          "output_type": "stream",
          "name": "stdout",
          "text": [
            "Mounted at /content/drive\n",
            "Path: /content/drive/My Drive/Big Data - 43C8\n"
          ]
        }
      ]
    },
    {
      "cell_type": "markdown",
      "source": [
        "#PCA by Hand"
      ],
      "metadata": {
        "id": "cq6JHqlq4f8_"
      }
    },
    {
      "cell_type": "markdown",
      "source": [
        "###Step 1: calculating covariance matrix (unbiased)\n"
      ],
      "metadata": {
        "id": "Mp1dUUom3Ph0"
      }
    },
    {
      "cell_type": "code",
      "execution_count": null,
      "metadata": {
        "colab": {
          "base_uri": "https://localhost:8080/"
        },
        "id": "iR6ZuBeXpxMV",
        "outputId": "b7108b6a-2730-45d3-d451-60b5df85a1cb"
      },
      "outputs": [
        {
          "output_type": "stream",
          "name": "stdout",
          "text": [
            "data has 5 observations 3 variables\n",
            "[[0 0 1]\n",
            " [0 1 1]\n",
            " [1 0 1]\n",
            " [1 1 1]\n",
            " [1 6 3]]\n"
          ]
        }
      ],
      "source": [
        "import numpy as np\n",
        "\n",
        "X = np.array([[0,0,1],\n",
        "              [0,1,1],\n",
        "              [1,0,1],\n",
        "              [1,1,1],\n",
        "              [1,6,3]])\n",
        "n,p = X.shape\n",
        "print(\"data has \" + str(n) + \" observations \"  + str(p) + \" variables\")\n",
        "print(X)"
      ]
    },
    {
      "cell_type": "code",
      "source": [
        "X_mean = np.mean(X,axis=0) #we need x_mean to get zero-mean data\n",
        "print(X_mean)"
      ],
      "metadata": {
        "colab": {
          "base_uri": "https://localhost:8080/"
        },
        "id": "-ts9lJ5CqiuH",
        "outputId": "9011133b-0de6-4666-fefc-4dff757ad330"
      },
      "execution_count": null,
      "outputs": [
        {
          "output_type": "stream",
          "name": "stdout",
          "text": [
            "[0.6 1.6 1.4]\n"
          ]
        }
      ]
    },
    {
      "cell_type": "code",
      "source": [
        "X_zero_mean_mat = X - X_mean #centering data: makes the mean of all the variables 0\n",
        "print(X_zero_mean_mat)"
      ],
      "metadata": {
        "colab": {
          "base_uri": "https://localhost:8080/"
        },
        "id": "BRsXalMYqstX",
        "outputId": "a66aa817-347c-4a7e-a48b-fd17a8d20adc"
      },
      "execution_count": null,
      "outputs": [
        {
          "output_type": "stream",
          "name": "stdout",
          "text": [
            "[[-0.6 -1.6 -0.4]\n",
            " [-0.6 -0.6 -0.4]\n",
            " [ 0.4 -1.6 -0.4]\n",
            " [ 0.4 -0.6 -0.4]\n",
            " [ 0.4  4.4  1.6]]\n"
          ]
        }
      ]
    },
    {
      "cell_type": "code",
      "source": [
        "C = np.dot(X_zero_mean_mat.T,X_zero_mean_mat)/(n-1)\n",
        "print(\"This is the covariance matrix\")\n",
        "print(C)"
      ],
      "metadata": {
        "colab": {
          "base_uri": "https://localhost:8080/"
        },
        "id": "uzq3iCGEqxaF",
        "outputId": "2fa52b00-91ab-4c1e-abb8-2fb14213803a"
      },
      "execution_count": null,
      "outputs": [
        {
          "output_type": "stream",
          "name": "stdout",
          "text": [
            "This is the covariance matrix\n",
            "[[0.3  0.55 0.2 ]\n",
            " [0.55 6.3  2.2 ]\n",
            " [0.2  2.2  0.8 ]]\n"
          ]
        }
      ]
    },
    {
      "cell_type": "markdown",
      "source": [
        "###Step 2: compute PCs and Variance (eigenvalue decomposition)"
      ],
      "metadata": {
        "id": "VJP5Jb6336um"
      }
    },
    {
      "cell_type": "code",
      "source": [
        "Variance, PCs = np.linalg.eigh(C)\n",
        "print(\"Variance\")\n",
        "print(Variance)\n",
        "print(\"PCs\")\n",
        "print(PCs)"
      ],
      "metadata": {
        "colab": {
          "base_uri": "https://localhost:8080/"
        },
        "id": "WAxfznEsrcwj",
        "outputId": "54bcda6e-c774-427b-daec-72de048087b3"
      },
      "execution_count": null,
      "outputs": [
        {
          "output_type": "stream",
          "name": "stdout",
          "text": [
            "Variance\n",
            "[0.02808232 0.25       7.12191768]\n",
            "PCs\n",
            "[[-2.98651724e-02 -9.95893206e-01 -8.54680805e-02]\n",
            " [-3.28516896e-01  9.05357460e-02 -9.40148886e-01]\n",
            " [ 9.44025805e-01 -3.05311332e-16 -3.29871611e-01]]\n"
          ]
        }
      ]
    },
    {
      "cell_type": "code",
      "source": [
        "#step 2.a :we sort eignevalues from largest to smallest\n",
        "idx = np.argsort(-Variance)\n",
        "Variance = Variance[idx]\n",
        "print(\"Variance is sorted from largest to smallest\")\n",
        "print(Variance)"
      ],
      "metadata": {
        "colab": {
          "base_uri": "https://localhost:8080/"
        },
        "id": "Z1sCRnqKrtHl",
        "outputId": "18eabee6-ac3a-416f-ec47-556c33ed7157"
      },
      "execution_count": null,
      "outputs": [
        {
          "output_type": "stream",
          "name": "stdout",
          "text": [
            "Variance\n",
            "[7.12191768 0.25       0.02808232]\n"
          ]
        }
      ]
    },
    {
      "cell_type": "code",
      "source": [
        "#step 2.b :sort eigenvalues, PCs\n",
        "PCs = PCs[:,idx]\n",
        "print(\"Real PC matrix\")\n",
        "print(PCs)"
      ],
      "metadata": {
        "colab": {
          "base_uri": "https://localhost:8080/"
        },
        "id": "6TE8hLydsI8A",
        "outputId": "62e93e73-afb2-4dda-b2e3-dbf7a044df27"
      },
      "execution_count": null,
      "outputs": [
        {
          "output_type": "stream",
          "name": "stdout",
          "text": [
            "Real PC matrix\n",
            "[[-8.54680805e-02 -9.95893206e-01 -2.98651724e-02]\n",
            " [-9.40148886e-01  9.05357460e-02 -3.28516896e-01]\n",
            " [-3.29871611e-01 -3.05311332e-16  9.44025805e-01]]\n"
          ]
        }
      ]
    },
    {
      "cell_type": "markdown",
      "source": [
        "###Step 3: verify PC matrix U is orthogonal\n"
      ],
      "metadata": {
        "id": "17qbAVrX4IL-"
      }
    },
    {
      "cell_type": "code",
      "source": [
        "#let U be the PC matrix\n",
        "U = np.asmatrix(PCs)\n",
        "print(U.T*U)\n",
        "print(\"This is the identity matrix\")"
      ],
      "metadata": {
        "colab": {
          "base_uri": "https://localhost:8080/"
        },
        "id": "nCjO155ssvt9",
        "outputId": "cbde074b-16b1-4a84-f8d7-94699c9bc99d"
      },
      "execution_count": null,
      "outputs": [
        {
          "output_type": "stream",
          "name": "stdout",
          "text": [
            "[[ 1.00000000e+00  1.08602874e-16 -8.32713696e-17]\n",
            " [ 1.08602874e-16  1.00000000e+00  9.00877935e-18]\n",
            " [-8.32713696e-17  9.00877935e-18  1.00000000e+00]]\n",
            "This is the identity matrix\n"
          ]
        }
      ]
    },
    {
      "cell_type": "code",
      "source": [
        "#compute the newData (score) in the PCA space\n",
        "newData = np.dot(X_zero_mean_mat,U)  #matrix multiplicaiton\n",
        "print(\"the new data (score in the PCA space\")\n",
        "print(newData)"
      ],
      "metadata": {
        "colab": {
          "base_uri": "https://localhost:8080/"
        },
        "id": "4mMC_OUPtm6T",
        "outputId": "18b6ba9b-343b-49fb-ef7e-302f87914eec"
      },
      "execution_count": null,
      "outputs": [
        {
          "output_type": "stream",
          "name": "stdout",
          "text": [
            "the new data (score in the PCA space\n",
            "[[ 1.68746771e+00  4.52678730e-01  1.65935815e-01]\n",
            " [ 7.47318824e-01  5.43214476e-01 -1.62581081e-01]\n",
            " [ 1.60199963e+00 -5.43214476e-01  1.36070642e-01]\n",
            " [ 6.61850744e-01 -4.52678730e-01 -1.92446253e-01]\n",
            " [-4.69863691e+00 -2.62044343e-16  5.30208771e-02]]\n"
          ]
        }
      ]
    },
    {
      "cell_type": "code",
      "source": [
        "#verify newData with PCA from sklearn\n",
        "from sklearn.decomposition import PCA\n",
        "pca = PCA()\n",
        "new_data = pca.fit_transform(X)\n",
        "print(\"the new data (score) in the PCA space from sklearn \\n\", new_data)"
      ],
      "metadata": {
        "colab": {
          "base_uri": "https://localhost:8080/"
        },
        "id": "bktbGIvJwzLk",
        "outputId": "46a140af-d979-448d-a312-276bd1726891"
      },
      "execution_count": null,
      "outputs": [
        {
          "output_type": "stream",
          "name": "stdout",
          "text": [
            "the new data (score) in the PCA space from sklearn \n",
            " [[-1.68746771e+00 -4.52678730e-01 -1.65935815e-01]\n",
            " [-7.47318824e-01 -5.43214476e-01  1.62581081e-01]\n",
            " [-1.60199963e+00  5.43214476e-01 -1.36070642e-01]\n",
            " [-6.61850744e-01  4.52678730e-01  1.92446253e-01]\n",
            " [ 4.69863691e+00 -8.69373453e-17 -5.30208771e-02]]\n"
          ]
        }
      ]
    },
    {
      "cell_type": "markdown",
      "source": [
        "This isn't the same as the PCA from scratch, but it doesn't mattr since we just swapped the directions with the negative and positive signs."
      ],
      "metadata": {
        "id": "uBqEcRXr4Tw1"
      }
    },
    {
      "cell_type": "markdown",
      "source": [
        "#Dimensionality Reduction"
      ],
      "metadata": {
        "id": "o-jyb9Wv4nt1"
      }
    },
    {
      "cell_type": "markdown",
      "source": [
        "Dimenions reduction affects variables (colunmns), we did projection, but didnt reduce dimensionality:\n",
        "The 3rd column of 'new_data' will be dropped because it has the smallest variances"
      ],
      "metadata": {
        "id": "kjmhZMi9yDmE"
      }
    }
  ]
}