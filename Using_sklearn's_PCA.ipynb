{
  "nbformat": 4,
  "nbformat_minor": 0,
  "metadata": {
    "colab": {
      "provenance": [],
      "authorship_tag": "ABX9TyOimUZ11LkoKt9rJciqS/GW",
      "include_colab_link": true
    },
    "kernelspec": {
      "name": "python3",
      "display_name": "Python 3"
    },
    "language_info": {
      "name": "python"
    }
  },
  "cells": [
    {
      "cell_type": "markdown",
      "metadata": {
        "id": "view-in-github",
        "colab_type": "text"
      },
      "source": [
        "<a href=\"https://colab.research.google.com/github/GMartinez02/Big-Data---43C8-Fall-2024/blob/Concepts-as-Code/Using_sklearn's_PCA.ipynb\" target=\"_parent\"><img src=\"https://colab.research.google.com/assets/colab-badge.svg\" alt=\"Open In Colab\"/></a>"
      ]
    },
    {
      "cell_type": "markdown",
      "source": [
        "###PCA with sklearn"
      ],
      "metadata": {
        "id": "F4jmB8GkENZV"
      }
    },
    {
      "cell_type": "code",
      "execution_count": 1,
      "metadata": {
        "colab": {
          "base_uri": "https://localhost:8080/",
          "height": 213
        },
        "id": "1ILkC9eIAQiD",
        "outputId": "2cd7a5ff-0602-4f40-804c-9e6090755722"
      },
      "outputs": [
        {
          "output_type": "stream",
          "name": "stdout",
          "text": [
            "\n",
            " Input data\n",
            "[[-100.     -1.  ]\n",
            " [-200.     -1.  ]\n",
            " [-300.     -2.  ]\n",
            " [   1.    100.  ]\n",
            " [  21.     -1.  ]\n",
            " [   8.3     9.92]]\n"
          ]
        },
        {
          "output_type": "execute_result",
          "data": {
            "text/plain": [
              "PCA(n_components=2)"
            ],
            "text/html": [
              "<style>#sk-container-id-1 {color: black;}#sk-container-id-1 pre{padding: 0;}#sk-container-id-1 div.sk-toggleable {background-color: white;}#sk-container-id-1 label.sk-toggleable__label {cursor: pointer;display: block;width: 100%;margin-bottom: 0;padding: 0.3em;box-sizing: border-box;text-align: center;}#sk-container-id-1 label.sk-toggleable__label-arrow:before {content: \"▸\";float: left;margin-right: 0.25em;color: #696969;}#sk-container-id-1 label.sk-toggleable__label-arrow:hover:before {color: black;}#sk-container-id-1 div.sk-estimator:hover label.sk-toggleable__label-arrow:before {color: black;}#sk-container-id-1 div.sk-toggleable__content {max-height: 0;max-width: 0;overflow: hidden;text-align: left;background-color: #f0f8ff;}#sk-container-id-1 div.sk-toggleable__content pre {margin: 0.2em;color: black;border-radius: 0.25em;background-color: #f0f8ff;}#sk-container-id-1 input.sk-toggleable__control:checked~div.sk-toggleable__content {max-height: 200px;max-width: 100%;overflow: auto;}#sk-container-id-1 input.sk-toggleable__control:checked~label.sk-toggleable__label-arrow:before {content: \"▾\";}#sk-container-id-1 div.sk-estimator input.sk-toggleable__control:checked~label.sk-toggleable__label {background-color: #d4ebff;}#sk-container-id-1 div.sk-label input.sk-toggleable__control:checked~label.sk-toggleable__label {background-color: #d4ebff;}#sk-container-id-1 input.sk-hidden--visually {border: 0;clip: rect(1px 1px 1px 1px);clip: rect(1px, 1px, 1px, 1px);height: 1px;margin: -1px;overflow: hidden;padding: 0;position: absolute;width: 1px;}#sk-container-id-1 div.sk-estimator {font-family: monospace;background-color: #f0f8ff;border: 1px dotted black;border-radius: 0.25em;box-sizing: border-box;margin-bottom: 0.5em;}#sk-container-id-1 div.sk-estimator:hover {background-color: #d4ebff;}#sk-container-id-1 div.sk-parallel-item::after {content: \"\";width: 100%;border-bottom: 1px solid gray;flex-grow: 1;}#sk-container-id-1 div.sk-label:hover label.sk-toggleable__label {background-color: #d4ebff;}#sk-container-id-1 div.sk-serial::before {content: \"\";position: absolute;border-left: 1px solid gray;box-sizing: border-box;top: 0;bottom: 0;left: 50%;z-index: 0;}#sk-container-id-1 div.sk-serial {display: flex;flex-direction: column;align-items: center;background-color: white;padding-right: 0.2em;padding-left: 0.2em;position: relative;}#sk-container-id-1 div.sk-item {position: relative;z-index: 1;}#sk-container-id-1 div.sk-parallel {display: flex;align-items: stretch;justify-content: center;background-color: white;position: relative;}#sk-container-id-1 div.sk-item::before, #sk-container-id-1 div.sk-parallel-item::before {content: \"\";position: absolute;border-left: 1px solid gray;box-sizing: border-box;top: 0;bottom: 0;left: 50%;z-index: -1;}#sk-container-id-1 div.sk-parallel-item {display: flex;flex-direction: column;z-index: 1;position: relative;background-color: white;}#sk-container-id-1 div.sk-parallel-item:first-child::after {align-self: flex-end;width: 50%;}#sk-container-id-1 div.sk-parallel-item:last-child::after {align-self: flex-start;width: 50%;}#sk-container-id-1 div.sk-parallel-item:only-child::after {width: 0;}#sk-container-id-1 div.sk-dashed-wrapped {border: 1px dashed gray;margin: 0 0.4em 0.5em 0.4em;box-sizing: border-box;padding-bottom: 0.4em;background-color: white;}#sk-container-id-1 div.sk-label label {font-family: monospace;font-weight: bold;display: inline-block;line-height: 1.2em;}#sk-container-id-1 div.sk-label-container {text-align: center;}#sk-container-id-1 div.sk-container {/* jupyter's `normalize.less` sets `[hidden] { display: none; }` but bootstrap.min.css set `[hidden] { display: none !important; }` so we also need the `!important` here to be able to override the default hidden behavior on the sphinx rendered scikit-learn.org. See: https://github.com/scikit-learn/scikit-learn/issues/21755 */display: inline-block !important;position: relative;}#sk-container-id-1 div.sk-text-repr-fallback {display: none;}</style><div id=\"sk-container-id-1\" class=\"sk-top-container\"><div class=\"sk-text-repr-fallback\"><pre>PCA(n_components=2)</pre><b>In a Jupyter environment, please rerun this cell to show the HTML representation or trust the notebook. <br />On GitHub, the HTML representation is unable to render, please try loading this page with nbviewer.org.</b></div><div class=\"sk-container\" hidden><div class=\"sk-item\"><div class=\"sk-estimator sk-toggleable\"><input class=\"sk-toggleable__control sk-hidden--visually\" id=\"sk-estimator-id-1\" type=\"checkbox\" checked><label for=\"sk-estimator-id-1\" class=\"sk-toggleable__label sk-toggleable__label-arrow\">PCA</label><div class=\"sk-toggleable__content\"><pre>PCA(n_components=2)</pre></div></div></div></div></div>"
            ]
          },
          "metadata": {},
          "execution_count": 1
        }
      ],
      "source": [
        "import numpy as np\n",
        "from sklearn.decomposition import PCA\n",
        "\n",
        "X = np.array([[-100, -1],\n",
        "              [-200, -1],\n",
        "              [-300, -2],\n",
        "              [1, 100],\n",
        "              [21, -1],\n",
        "              [8.3, 9.92]\n",
        "              ])\n",
        "print(\"\\n Input data\")\n",
        "print(X)\n",
        "\n",
        "## set PCA object\n",
        "pca = PCA(n_components=2)\n",
        "## conduct PCA\n",
        "pca.fit(X) #builds PC systes"
      ]
    },
    {
      "cell_type": "code",
      "source": [
        "print(\"\\n explained variance in each PC \\n\")\n",
        "print(str(pca.explained_variance_)+\"\\n\")\n",
        "\n",
        "print(\"explained variance ratios for all PCs\\n\")\n",
        "print(str(pca.explained_variance_ratio_) + \"\\n\")\n",
        "\n",
        "print(\"PC components\\n\")\n",
        "print(pca.components_)"
      ],
      "metadata": {
        "colab": {
          "base_uri": "https://localhost:8080/"
        },
        "id": "iI_HLUCEAvas",
        "outputId": "59d51f23-9459-491e-c19a-ea23a4d1dde7"
      },
      "execution_count": 2,
      "outputs": [
        {
          "output_type": "stream",
          "name": "stdout",
          "text": [
            "\n",
            " explained variance in each PC \n",
            "\n",
            "[17588.6175458   1349.09852087]\n",
            "\n",
            "explained variance ratios for all PCs\n",
            "\n",
            "[0.92876129 0.07123871]\n",
            "\n",
            "PC components\n",
            "\n",
            "[[-0.99056349 -0.1370546 ]\n",
            " [-0.1370546   0.99056349]]\n"
          ]
        }
      ]
    },
    {
      "cell_type": "markdown",
      "source": [
        "The first PC has such a large variance ratio because the first column has a wider range of values, us not normalizing our data makes this severe. We didn't make our data zero-mean."
      ],
      "metadata": {
        "id": "rJLilDHjBMIw"
      }
    },
    {
      "cell_type": "code",
      "source": [
        "newdata=pca.transform(X) #transform() gives us new data\n",
        "print(newdata)"
      ],
      "metadata": {
        "colab": {
          "base_uri": "https://localhost:8080/"
        },
        "id": "79B1WSZEDIUl",
        "outputId": "00f12a26-a4b6-4a5d-fbbb-b0ed34fc64f9"
      },
      "execution_count": 3,
      "outputs": [
        {
          "output_type": "stream",
          "name": "stdout",
          "text": [
            "[[   7.53602841  -17.62009138]\n",
            " [ 106.59237782   -3.91463104]\n",
            " [ 205.78578182    8.80026581]\n",
            " [-106.35339943   68.58430657]\n",
            " [-112.32215436  -34.20369839]\n",
            " [-101.23863426  -21.64615157]]\n"
          ]
        }
      ]
    },
    {
      "cell_type": "markdown",
      "source": [
        "###PCA Function with Selectable Normalization"
      ],
      "metadata": {
        "id": "dLjOU7ttECtZ"
      }
    },
    {
      "cell_type": "code",
      "source": [
        "from sklearn.preprocessing import MinMaxScaler\n",
        "from sklearn.preprocessing import StandardScaler"
      ],
      "metadata": {
        "id": "iNJ2kCOWGX-H"
      },
      "execution_count": 4,
      "outputs": []
    },
    {
      "cell_type": "code",
      "source": [
        "def doPCA (data, normalizaion_bit=1):\n",
        "  if normalizaion_bit==1:\n",
        "    normalized_data=MinMaxScaler().fit_transform(data)\n",
        "  elif normalizaion_bit==2:\n",
        "    normalized_data=StandardScaler().fit_transform(data)\n",
        "  else:\n",
        "    normalized_data=data\n",
        "  pca = PCA()\n",
        "  newData = pca.fit_transform(normalized_data)\n",
        "\n",
        "  return newData"
      ],
      "metadata": {
        "id": "dBTbvtBhDy0x"
      },
      "execution_count": 5,
      "outputs": []
    }
  ]
}