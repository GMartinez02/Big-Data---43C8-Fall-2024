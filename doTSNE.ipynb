{
  "nbformat": 4,
  "nbformat_minor": 0,
  "metadata": {
    "colab": {
      "provenance": [],
      "authorship_tag": "ABX9TyP3kWL+E4vYFivcdq7D4Ae8",
      "include_colab_link": true
    },
    "kernelspec": {
      "name": "python3",
      "display_name": "Python 3"
    },
    "language_info": {
      "name": "python"
    }
  },
  "cells": [
    {
      "cell_type": "markdown",
      "metadata": {
        "id": "view-in-github",
        "colab_type": "text"
      },
      "source": [
        "<a href=\"https://colab.research.google.com/github/GMartinez02/Big-Data---43C8-Fall-2024/blob/Concepts-as-Code/doTSNE.ipynb\" target=\"_parent\"><img src=\"https://colab.research.google.com/assets/colab-badge.svg\" alt=\"Open In Colab\"/></a>"
      ]
    },
    {
      "cell_type": "code",
      "source": [
        "import pandas as pd\n",
        "import numpy as np\n",
        "from sklearn.manifold import TSNE\n",
        "import matplotlib.pyplot as plt\n",
        "import umap\n",
        "from sklearn.decomposition import PCA"
      ],
      "metadata": {
        "id": "IC0-SMBG9vPF"
      },
      "execution_count": 19,
      "outputs": []
    },
    {
      "cell_type": "code",
      "source": [
        "from sklearn import datasets\n",
        "iris = datasets.load_iris()\n",
        "data=iris.data\n",
        "label = iris.target\n",
        "print(data.shape)"
      ],
      "metadata": {
        "colab": {
          "base_uri": "https://localhost:8080/"
        },
        "id": "Qu2V32uq-DUm",
        "outputId": "8db12875-2375-4ea6-b447-c87d147c0ed6"
      },
      "execution_count": 14,
      "outputs": [
        {
          "output_type": "stream",
          "name": "stdout",
          "text": [
            "(150, 4)\n"
          ]
        }
      ]
    },
    {
      "cell_type": "code",
      "source": [
        "def doPCA (data):\n",
        "  normalized_data =StandardScaler().fit_transform(data)\n",
        "  pca = PCA()\n",
        "  return pca.fit_transform(data)"
      ],
      "metadata": {
        "id": "BGKARrlf-W7o"
      },
      "execution_count": 15,
      "outputs": []
    },
    {
      "cell_type": "code",
      "execution_count": 16,
      "metadata": {
        "id": "1aOv878E1n6c"
      },
      "outputs": [],
      "source": [
        "from sklearn.manifold import TSNE\n",
        "def doTSNE (data, perplexity, init):\n",
        "  normalized_data =StandardScaler().fit_transform(data)\n",
        "  tsne = TSNE(perplexity = perplexity, init = init)\n",
        "  return tsne.fit_transform(normalized_data)\n"
      ]
    },
    {
      "cell_type": "code",
      "source": [
        "def doUMAP (data, neighbors_size, unit):\n",
        "  normalized_data =StandardScaler().fit_transform(data)\n",
        "  umap_ = umap.UMAP(n_neighbors = neighbors_size, init = unit)\n",
        "  return umap_.fit_transform(normalized_data, )"
      ],
      "metadata": {
        "id": "U48GkaeR-sio"
      },
      "execution_count": 17,
      "outputs": []
    },
    {
      "cell_type": "code",
      "source": [
        "pcaNewData = doPCA(data)\n",
        "tsneNewData = doTSNE(data, 5, 'pca')\n",
        "umapNewData = doUMAP(data, 10, 'spectral')"
      ],
      "metadata": {
        "id": "Mg8aE0IM_EOy"
      },
      "execution_count": 20,
      "outputs": []
    },
    {
      "cell_type": "code",
      "source": [
        "setosa=label == 0\n",
        "versicolor=label == 1\n",
        "virginica=label == 2"
      ],
      "metadata": {
        "id": "tx73LA9Q_U0e"
      },
      "execution_count": 21,
      "outputs": []
    },
    {
      "cell_type": "code",
      "source": [
        "def draw_three_class_data(new_data, label_1, label_2, label_3,\n",
        "                          label_1_name, label_2_name, label_3_name, Method):\n",
        "  plt.scatter(newData[label_1, 0], newData[label_1, 1], label = label_1_name,\n",
        "              marker = \"o\", color = \"blue\", edgecolors = \"k\", s = 75)\n",
        "  plt.scatter(newData[label_2, 0], newData[label_2, 1], label = label_2_name,\n",
        "              marker = \"o\", color = \"gold\", edgecolors = \"g\", s = 75)\n",
        "  plt.scatter(newData[label_3, 0], newData[label_3, 1], label = label_3_name,\n",
        "              marker = \"o\", color = \"reyd\", edgecolors = \"y\", s = 75)\n",
        "  plt.legend()\n",
        "  plt.title(Method)\n",
        "  plt.show()"
      ],
      "metadata": {
        "id": "SP2YMgFm_fmL"
      },
      "execution_count": 23,
      "outputs": []
    }
  ]
}